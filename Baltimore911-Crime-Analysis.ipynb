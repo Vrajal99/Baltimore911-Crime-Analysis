{
  "cells": [
    {
      "cell_type": "code",
      "execution_count": 1,
      "id": "e4003d21",
      "metadata": {},
      "outputs": [],
      "source": [
        "import warnings\n",
        "warnings.filterwarnings('ignore')"
      ]
    },
    {
      "cell_type": "markdown",
      "id": "0cc8a214",
      "metadata": {
        "id": "0cc8a214"
      },
      "source": [
        "#### Task 1:Create a dataset profile table that gives an overview of the dataset. Output in HTML FILE \"dataset_profile.html\""
      ]
    },
    {
      "cell_type": "code",
      "execution_count": 2,
      "id": "c66c7aab",
      "metadata": {
        "colab": {
          "base_uri": "https://localhost:8080/",
          "height": 886,
          "referenced_widgets": [
            "2084f390d4a84e7ca7258d5c8b8d9f05",
            "fb19030cf2a04bba9356d2b5a76e9d55",
            "006ca7921360406287bf79ab36135ec3",
            "05e38f10cfa14e32a4795f5a1b7a5e46",
            "9dd61d2fa97142d0bd7c736a10f19bd0",
            "f6aba6ca08014511af24199973f21992",
            "89ef38468fe84ee2acea388847aa6f75",
            "6a0bf5259fc3420c96124d61859a090e",
            "ef89da8415994f489543ea1d37df159f",
            "1963a20faf6e4bf6aff6dc2c052cd1d8",
            "ba0e484d059e429a87d26e1738429d1f",
            "81c6a0781a7e4601a94ffc41cee7b77c",
            "1d6edfbadcc246808d9d6001dddf38fc",
            "18bd22edff1b4de8b69469ad5111952f",
            "d8a5279332ca4a76aa727cc175d6dda6",
            "bde842825fa648a5a701d4c347b8b70e",
            "4e55ff74160c42989c3d0606a76eae85",
            "8eee8670ef7043a5895d9f3973259efc",
            "3c4fe1265a4440e79cd280abb18b82d1",
            "7fd371f161c146fa99e19c7698f01ef2",
            "c7cf0460348f4b58a1eee8d5d0c49b81",
            "fd36dbd156a545bf9a4dc91c4edf57e1",
            "37d17172773148059824b658da24a977",
            "cc610bdb2b10491aa708130c27569578",
            "4770312d6e20420cbc5e3bb8d263e243",
            "38a5d7e6f301495993e2dd032e2194d7",
            "bbb0459e4ade4673a245e0761bc06bab",
            "0ce751791ebf45098583ba6302f52503",
            "243556c0e67a4549bb477a02d73dc986",
            "96907759f87a4091aa34a69bafeb0d15",
            "23d4fdaa8a564e9fa406c245478cb401",
            "4b38a03d5be6434db509965e72581b08",
            "6ed197a5b93748659d4f36d237ee262f",
            "747af473dd974dc78d3d9cb7860747d4",
            "2e142a5412ac4e2dafdc68b3d6e1c1f7",
            "f48e5c6d48ca447c88a15f47e8399cfa",
            "7bd848c0ac364f9cb1503169e582d3ff",
            "afa7708dec934f6cbcb3cd2baa8aff00",
            "caf07192cfab46dcb8a2346f5be2aef7",
            "067492c788a24e75bc16f69499ab10b8",
            "1fba981e45ae4097ae7a56d8dc9748cb",
            "b3142f24042b4fe88fe69b035509468f",
            "adcb2f78b1ae4035aa4d4d8308a36042",
            "4690a6aeb6954c26b9259d3ccffebf8b"
          ]
        },
        "id": "c66c7aab",
        "outputId": "f7ef2183-f487-4beb-9b03-77f2a515100e",
        "scrolled": false
      },
      "outputs": [
        {
          "data": {
            "text/html": [
              "\n",
              "            <div>\n",
              "                <ins><a href=\"ttps://ydata.ai/register\">Upgrade to ydata-sdk</a></ins>\n",
              "                <p>\n",
              "                    Improve your data and profiling with ydata-sdk, featuring data quality scoring, redundancy detection, outlier identification, text validation, and synthetic data generation.\n",
              "                </p>\n",
              "            </div>\n",
              "            "
            ],
            "text/plain": [
              "<IPython.core.display.HTML object>"
            ]
          },
          "metadata": {},
          "output_type": "display_data"
        },
        {
          "name": "stderr",
          "output_type": "stream",
          "text": [
            "Summarize dataset: 100%|██████████| 30/30 [00:10<00:00,  2.82it/s, Completed]                        \n",
            "Generate report structure: 100%|██████████| 1/1 [00:03<00:00,  3.81s/it]\n",
            "Render HTML: 100%|██████████| 1/1 [00:00<00:00,  1.84it/s]\n",
            "Export report to file: 100%|██████████| 1/1 [00:00<00:00, 100.87it/s]\n"
          ]
        },
        {
          "name": "stdout",
          "output_type": "stream",
          "text": [
            "Total number of call instances/rows: 292761\n",
            "Total number of call features/columns: 16\n",
            "-----------------------------------------------------------------\n",
            "Data Profile Table:\n",
            "        Column Name Data Type  Unique Value Count        Min        Max  \\\n",
            "0         CrimeDate    object                2300        NaN        NaN   \n",
            "1         CrimeTime    object                1475        NaN        NaN   \n",
            "2         CrimeCode    object                  81        NaN        NaN   \n",
            "3          Location    object               27064        NaN        NaN   \n",
            "4       Description    object                  14        NaN        NaN   \n",
            "5    Inside/Outside    object                   4        NaN        NaN   \n",
            "6            Weapon    object                   5        NaN        NaN   \n",
            "7              Post    object                 133        NaN        NaN   \n",
            "8          District    object                  10        NaN        NaN   \n",
            "9      Neighborhood    object                 278        NaN        NaN   \n",
            "10        Longitude   float64               97440 -81.529189 -76.383228   \n",
            "11         Latitude   float64               95903  37.577262  39.661332   \n",
            "12       Location 1   float64                   0        NaN        NaN   \n",
            "13          Premise    object                 125        NaN        NaN   \n",
            "14        vri_name1    object                   8        NaN        NaN   \n",
            "15  Total Incidents     int64                   1   1.000000   1.000000   \n",
            "\n",
            "         Mean     Median      S.D.  Missing (%)  \n",
            "0         NaN        NaN       NaN     0.000000  \n",
            "1         NaN        NaN       NaN     0.008881  \n",
            "2         NaN        NaN       NaN     0.000000  \n",
            "3         NaN        NaN       NaN     0.456345  \n",
            "4         NaN        NaN       NaN     0.000000  \n",
            "5         NaN        NaN       NaN    11.531591  \n",
            "6         NaN        NaN       NaN    78.982173  \n",
            "7         NaN        NaN       NaN     0.811584  \n",
            "8         NaN        NaN       NaN     0.000000  \n",
            "9         NaN        NaN       NaN     3.587910  \n",
            "10 -76.617452 -76.613977  0.043734     0.558476  \n",
            "11  39.306746  39.302672  0.029658     0.558476  \n",
            "12        NaN        NaN       NaN   100.000000  \n",
            "13        NaN        NaN       NaN    11.617668  \n",
            "14        NaN        NaN       NaN    88.186951  \n",
            "15   1.000000   1.000000  0.000000     0.000000  \n"
          ]
        }
      ],
      "source": [
        "import pandas as pd\n",
        "from ydata_profiling import ProfileReport  # Updated import\n",
        "import numpy as np\n",
        "filepath=\"data/Baltimore911.csv\"\n",
        "# Load the dataset\n",
        "df = pd.read_csv(filepath, low_memory=False)\n",
        "\n",
        "# Get the total number of rows and columns\n",
        "num_rows = df.shape[0]\n",
        "num_columns = df.shape[1]\n",
        "\n",
        "# Create a profile report\n",
        "profile = ProfileReport(df, explorative=True)  # No change\n",
        "\n",
        "# Generate the profile report\n",
        "profile.to_file(\"dataset_profile.html\")  # Use .html instead of .pdf for better visualization\n",
        "\n",
        "# Print the basic dataset overview\n",
        "print(f\"Total number of call instances/rows: {num_rows}\")\n",
        "print(f\"Total number of call features/columns: {num_columns}\")\n",
        "\n",
        "# Loop through each column and gather information\n",
        "data_profile = []\n",
        "for column in df.columns:\n",
        "    unique_count = df[column].nunique()\n",
        "    data_type = str(df[column].dtype)\n",
        "\n",
        "    # Check for missing values\n",
        "    missing_percentage = (df[column].isnull().sum() / num_rows) * 100\n",
        "\n",
        "    if data_type in ['int64', 'float64', 'int', 'float']:\n",
        "        # Numeric attributes\n",
        "        min_val = df[column].min()\n",
        "        max_val = df[column].max()\n",
        "        mean_val = df[column].mean()\n",
        "        median_val = df[column].median()\n",
        "        std_deviation = df[column].std()\n",
        "    else:\n",
        "        # Categorical attributes\n",
        "        min_val = max_val = mean_val = median_val = std_deviation = None\n",
        "\n",
        "    data_profile.append({\n",
        "        'Column Name': column,\n",
        "        'Data Type': data_type,\n",
        "        'Unique Value Count': unique_count,\n",
        "        'Min': min_val,\n",
        "        'Max': max_val,\n",
        "        'Mean': mean_val,\n",
        "        'Median': median_val,\n",
        "        'S.D.': std_deviation,\n",
        "        'Missing (%)': missing_percentage\n",
        "    })\n",
        "\n",
        "print(\"-----------------------------------------------------------------\")\n",
        "# Convert the list of dictionaries to a DataFrame\n",
        "data_profile_df = pd.DataFrame(data_profile)\n",
        "\n",
        "# Step 3: Display the data profile table\n",
        "print(\"Data Profile Table:\")\n",
        "print(data_profile_df)\n"
      ]
    },
    {
      "cell_type": "markdown",
      "id": "89d36290",
      "metadata": {
        "id": "89d36290"
      },
      "source": [
        "#### Task 2: Generate a series of plots to describe the temporal pattern (year-to-year, monthly, and day-of-week) of the overall crime incidence aggregating from all geo-locations."
      ]
    },
    {
      "cell_type": "code",
      "execution_count": 3,
      "id": "d1710c29",
      "metadata": {
        "colab": {
          "base_uri": "https://localhost:8080/",
          "height": 1000
        },
        "id": "d1710c29",
        "outputId": "954e6f39-1deb-47db-d745-278f5c78a876"
      },
      "outputs": [
        {
          "data": {
            "image/png": "[encoded data removed]",
            "text/plain": [
              "<Figure size 1200x1800 with 3 Axes>"
            ]
          },
          "metadata": {},
          "output_type": "display_data"
        }
      ],
      "source": [
        "%matplotlib inline\n",
        "\n",
        "import matplotlib.pyplot as plt\n",
        "import seaborn as sns\n",
        "\n",
        "# Assuming you have a 'CrimeDate' column, convert it to a datetime object\n",
        "df['CrimeDate'] = pd.to_datetime(df['CrimeDate'])\n",
        "\n",
        "# Create new columns for year, month, and day of the week\n",
        "df['Year'] = df['CrimeDate'].dt.year\n",
        "df['Month'] = df['CrimeDate'].dt.month\n",
        "df['DayOfWeek'] = df['CrimeDate'].dt.dayofweek  # 0=Monday, 6=Sunday\n",
        "\n",
        "# Aggregating data for year-to-year crime incidence\n",
        "yearly_incidents = df['Year'].value_counts().sort_index()\n",
        "\n",
        "# Aggregating data for monthly crime incidence\n",
        "monthly_incidents = df.groupby('Month')['Month'].count()\n",
        "\n",
        "# Aggregating data for day-of-week crime incidence\n",
        "day_of_week_incidents = df.groupby('DayOfWeek')['DayOfWeek'].count()\n",
        "\n",
        "# Set a consistent color palette\n",
        "sns.set_palette('Set3')\n",
        "\n",
        "# Create subplots for each distribution\n",
        "fig, axes = plt.subplots(3, 1, figsize=(12, 18))\n",
        "\n",
        "# Year-to-Year Crime Incidence\n",
        "sns.lineplot(data=yearly_incidents, marker='o', ax=axes[0])\n",
        "axes[0].set_title('Year-to-Year Crime Incidence')\n",
        "axes[0].set_xlabel('Year')\n",
        "axes[0].set_ylabel('Number of Incidents')\n",
        "axes[0].grid(True)\n",
        "\n",
        "# Monthly Crime Incidence (using a single color)\n",
        "sns.barplot(x=monthly_incidents.index, y=monthly_incidents.values, ax=axes[1], estimator=\"sum\", color='steelblue')\n",
        "axes[1].set_title('Monthly Crime Incidence')\n",
        "axes[1].set_xlabel('Month')\n",
        "axes[1].set_ylabel('Number of Incidents')\n",
        "axes[1].grid(axis='y')\n",
        "\n",
        "# Day-of-Week Crime Incidence (using a single color)\n",
        "day_names = ['Monday', 'Tuesday', 'Wednesday', 'Thursday', 'Friday', 'Saturday', 'Sunday']\n",
        "day_of_week_incidents_df = pd.DataFrame({'DayOfWeek': day_names, 'Incidents': day_of_week_incidents.values})\n",
        "sns.barplot(data=day_of_week_incidents_df, x='DayOfWeek', y='Incidents', order=day_names, ax=axes[2], estimator=\"sum\", color='darkorange')\n",
        "axes[2].set_title('Day-of-Week Crime Incidence')\n",
        "axes[2].set_xlabel('Day of the Week')\n",
        "axes[2].set_ylabel('Number of Incidents')\n",
        "axes[2].grid(axis='y')\n",
        "\n",
        "# Adjust spacing between subplots\n",
        "plt.tight_layout()\n",
        "\n",
        "# Show the plots\n",
        "plt.show()\n",
        "\n"
      ]
    },
    {
      "cell_type": "markdown",
      "id": "bf607500",
      "metadata": {
        "id": "bf607500"
      },
      "source": [
        "#### Task 3: Generate a plot describing the distribution of crime type aggregating from all geo-locations and all time periods."
      ]
    },
    {
      "cell_type": "code",
      "execution_count": 4,
      "id": "3d5179b3",
      "metadata": {
        "colab": {
          "base_uri": "https://localhost:8080/",
          "height": 584
        },
        "id": "3d5179b3",
        "outputId": "b148300c-2eef-45c4-c858-22838d85b361"
      },
      "outputs": [
        {
          "data": {
            "image/png": "[encoded data removed]",
            "text/plain": [
              "<Figure size 1200x800 with 1 Axes>"
            ]
          },
          "metadata": {},
          "output_type": "display_data"
        }
      ],
      "source": [
        "# Group the data by crime type and count the incidents\n",
        "crime_type_counts = df['Description'].value_counts()\n",
        "\n",
        "# Create a bar plot for crime type distribution\n",
        "plt.figure(figsize=(12, 8))\n",
        "ax=sns.barplot(x=crime_type_counts.index, y=crime_type_counts.values,color='#756bb1', estimator=\"sum\")\n",
        "ax.bar_label(ax.containers[0], fontsize=11);\n",
        "plt.title('Distribution of Crime Types (Aggregated)-Baltimore')\n",
        "plt.ylabel('Number of Incidents')\n",
        "plt.xlabel('Crime Type')\n",
        "plt.xticks(rotation=90)\n",
        "plt.tight_layout()\n",
        "\n",
        "\n",
        "# Show the plot\n",
        "plt.show()"
      ]
    },
    {
      "cell_type": "markdown",
      "id": "bdebf4c7",
      "metadata": {
        "id": "bdebf4c7"
      },
      "source": [
        "#### Task 4: Generate a series of plots to illustrate how crime type distributions might vary from year-to-year, month-to-month, or by day-of-week aggregating across all locations."
      ]
    },
    {
      "cell_type": "code",
      "execution_count": 5,
      "id": "d4d79df1",
      "metadata": {
        "colab": {
          "base_uri": "https://localhost:8080/",
          "height": 1000
        },
        "id": "d4d79df1",
        "outputId": "cec9355b-a452-44f1-b799-91528127e720",
        "scrolled": false
      },
      "outputs": [
        {
          "data": {
            "application/vnd.plotly.v1+json": {
              "config": {
                "plotlyServerURL": "https://plot.ly"
              },
              "data": [
                {
                  "hovertemplate": "Description=RAPE<br>Year=%{x}<br>Number of Incidents=%{y}<extra></extra>",
                  "legendgroup": "RAPE",
                  "marker": {
                    "color": "#636efa",
                    "pattern": {
                      "shape": ""
                    }
                  },
                  "name": "RAPE",
                  "orientation": "v",
                  "showlegend": true,
                  "textposition": "auto",
                  "type": "bar",
                  "x": {
                    "bdata": "qwcAALEHAAC3BwAAuQcAALoHAAC8BwAAvQcAAL4HAADBBwAAxAcAAMkHAADLBwAAzgcAAM8HAADQBwAA0QcAANMHAADUBwAA1gcAANcHAADYBwAA2QcAANoHAADbBwAA3AcAAN0HAADeBwAA3wcAAOAHAADhBwAA4gcAAOMHAADkBwAA",
                    "dtype": "i4"
                  },
                  "xaxis": "x",
                  "y": {
                    "bdata": "AQABAAEAAQABAAEAAQABAAEAAQACAAIAAgACAAMAAwABAAIAAQAFAAUABwADAAkACgAPAPEAGwEhAWoBXQERAQwA",
                    "dtype": "i2"
                  },
                  "yaxis": "y"
                },
                {
                  "hovertemplate": "Description=AGG. ASSAULT<br>Year=%{x}<br>Number of Incidents=%{y}<extra></extra>",
                  "legendgroup": "AGG. ASSAULT",
                  "marker": {
                    "color": "#EF553B",
                    "pattern": {
                      "shape": ""
                    }
                  },
                  "name": "AGG. ASSAULT",
                  "orientation": "v",
                  "showlegend": true,
                  "textposition": "auto",
                  "type": "bar",
                  "x": {
                    "bdata": "3gcAAN8HAADgBwAA4QcAAOIHAADjBwAA5AcAAA==",
                    "dtype": "i4"
                  },
                  "xaxis": "x",
                  "y": {
                    "bdata": "qBCbEh0U0xbkFRwWpwE=",
                    "dtype": "i2"
                  },
                  "yaxis": "y"
                },
                {
                  "hovertemplate": "Description=ARSON<br>Year=%{x}<br>Number of Incidents=%{y}<extra></extra>",
                  "legendgroup": "ARSON",
                  "marker": {
                    "color": "#00cc96",
                    "pattern": {
                      "shape": ""
                    }
                  },
                  "name": "ARSON",
                  "orientation": "v",
                  "showlegend": true,
                  "textposition": "auto",
                  "type": "bar",
                  "x": {
                    "bdata": "3gcAAN8HAADgBwAA4QcAAOIHAADjBwAA5AcAAA==",
                    "dtype": "i4"
                  },
                  "xaxis": "x",
                  "y": {
                    "bdata": "2AAhAQwBCQF+AGoAAQA=",
                    "dtype": "i2"
                  },
                  "yaxis": "y"
                },
                {
                  "hovertemplate": "Description=AUTO THEFT<br>Year=%{x}<br>Number of Incidents=%{y}<extra></extra>",
                  "legendgroup": "AUTO THEFT",
                  "marker": {
                    "color": "#ab63fa",
                    "pattern": {
                      "shape": ""
                    }
                  },
                  "name": "AUTO THEFT",
                  "orientation": "v",
                  "showlegend": true,
                  "textposition": "auto",
                  "type": "bar",
                  "x": {
                    "bdata": "3gcAAN8HAADgBwAA4QcAAOIHAADjBwAA5AcAAA==",
                    "dtype": "i4"
                  },
                  "xaxis": "x",
                  "y": {
                    "bdata": "RA7VEQQSPRKCELYOVgE=",
                    "dtype": "i2"
                  },
                  "yaxis": "y"
                },
                {
                  "hovertemplate": "Description=BURGLARY<br>Year=%{x}<br>Number of Incidents=%{y}<extra></extra>",
                  "legendgroup": "BURGLARY",
                  "marker": {
                    "color": "#FFA15A",
                    "pattern": {
                      "shape": ""
                    }
                  },
                  "name": "BURGLARY",
                  "orientation": "v",
                  "showlegend": true,
                  "textposition": "auto",
                  "type": "bar",
                  "x": {
                    "bdata": "3gcAAN8HAADgBwAA4QcAAOIHAADjBwAA5AcAAA==",
                    "dtype": "i4"
                  },
                  "xaxis": "x",
                  "y": {
                    "bdata": "3RqwHuAcnh9EGAsVowE=",
                    "dtype": "i2"
                  },
                  "yaxis": "y"
                },
                {
                  "hovertemplate": "Description=COMMON ASSAULT<br>Year=%{x}<br>Number of Incidents=%{y}<extra></extra>",
                  "legendgroup": "COMMON ASSAULT",
                  "marker": {
                    "color": "#19d3f3",
                    "pattern": {
                      "shape": ""
                    }
                  },
                  "name": "COMMON ASSAULT",
                  "orientation": "v",
                  "showlegend": true,
                  "textposition": "auto",
                  "type": "bar",
                  "x": {
                    "bdata": "3gcAAN8HAADgBwAA4QcAAOIHAADjBwAA5AcAAA==",
                    "dtype": "i4"
                  },
                  "xaxis": "x",
                  "y": {
                    "bdata": "Jx1QG0odLyKxICwg8AI=",
                    "dtype": "i2"
                  },
                  "yaxis": "y"
                },
                {
                  "hovertemplate": "Description=HOMICIDE<br>Year=%{x}<br>Number of Incidents=%{y}<extra></extra>",
                  "legendgroup": "HOMICIDE",
                  "marker": {
                    "color": "#FF6692",
                    "pattern": {
                      "shape": ""
                    }
                  },
                  "name": "HOMICIDE",
                  "orientation": "v",
                  "showlegend": true,
                  "textposition": "auto",
                  "type": "bar",
                  "x": {
                    "bdata": "3gcAAN8HAADgBwAA4QcAAOIHAADjBwAA5AcAAA==",
                    "dtype": "i4"
                  },
                  "xaxis": "x",
                  "y": {
                    "bdata": "0wBWAT4BVgE1AVwBIAA=",
                    "dtype": "i2"
                  },
                  "yaxis": "y"
                },
                {
                  "hovertemplate": "Description=LARCENY<br>Year=%{x}<br>Number of Incidents=%{y}<extra></extra>",
                  "legendgroup": "LARCENY",
                  "marker": {
                    "color": "#B6E880",
                    "pattern": {
                      "shape": ""
                    }
                  },
                  "name": "LARCENY",
                  "orientation": "v",
                  "showlegend": true,
                  "textposition": "auto",
                  "type": "bar",
                  "x": {
                    "bdata": "3gcAAN8HAADgBwAA4QcAAOIHAADjBwAA5AcAAA==",
                    "dtype": "i4"
                  },
                  "xaxis": "x",
                  "y": {
                    "bdata": "diyvKdsoJSrFKZQpZgM=",
                    "dtype": "i2"
                  },
                  "yaxis": "y"
                },
                {
                  "hovertemplate": "Description=LARCENY FROM AUTO<br>Year=%{x}<br>Number of Incidents=%{y}<extra></extra>",
                  "legendgroup": "LARCENY FROM AUTO",
                  "marker": {
                    "color": "#FF97FF",
                    "pattern": {
                      "shape": ""
                    }
                  },
                  "name": "LARCENY FROM AUTO",
                  "orientation": "v",
                  "showlegend": true,
                  "textposition": "auto",
                  "type": "bar",
                  "x": {
                    "bdata": "3gcAAN8HAADgBwAA4QcAAOIHAADjBwAA5AcAAA==",
                    "dtype": "i4"
                  },
                  "xaxis": "x",
                  "y": {
                    "bdata": "PxqRG3UZIBjgGDsWwQE=",
                    "dtype": "i2"
                  },
                  "yaxis": "y"
                },
                {
                  "hovertemplate": "Description=ROBBERY - CARJACKING<br>Year=%{x}<br>Number of Incidents=%{y}<extra></extra>",
                  "legendgroup": "ROBBERY - CARJACKING",
                  "marker": {
                    "color": "#FECB52",
                    "pattern": {
                      "shape": ""
                    }
                  },
                  "name": "ROBBERY - CARJACKING",
                  "orientation": "v",
                  "showlegend": true,
                  "textposition": "auto",
                  "type": "bar",
                  "x": {
                    "bdata": "3gcAAN8HAADgBwAA4QcAAOIHAADjBwAA5AcAAA==",
                    "dtype": "i4"
                  },
                  "xaxis": "x",
                  "y": {
                    "bdata": "nAAfAZ0BOALhAUYCQwA=",
                    "dtype": "i2"
                  },
                  "yaxis": "y"
                },
                {
                  "hovertemplate": "Description=ROBBERY - COMMERCIAL<br>Year=%{x}<br>Number of Incidents=%{y}<extra></extra>",
                  "legendgroup": "ROBBERY - COMMERCIAL",
                  "marker": {
                    "color": "#636efa",
                    "pattern": {
                      "shape": ""
                    }
                  },
                  "name": "ROBBERY - COMMERCIAL",
                  "orientation": "v",
                  "showlegend": true,
                  "textposition": "auto",
                  "type": "bar",
                  "x": {
                    "bdata": "3gcAAN8HAADgBwAA4QcAAOIHAADjBwAA5AcAAA==",
                    "dtype": "i4"
                  },
                  "xaxis": "x",
                  "y": {
                    "bdata": "cwJzA2EDNgSRA/QCRAA=",
                    "dtype": "i2"
                  },
                  "yaxis": "y"
                },
                {
                  "hovertemplate": "Description=ROBBERY - RESIDENCE<br>Year=%{x}<br>Number of Incidents=%{y}<extra></extra>",
                  "legendgroup": "ROBBERY - RESIDENCE",
                  "marker": {
                    "color": "#EF553B",
                    "pattern": {
                      "shape": ""
                    }
                  },
                  "name": "ROBBERY - RESIDENCE",
                  "orientation": "v",
                  "showlegend": true,
                  "textposition": "auto",
                  "type": "bar",
                  "x": {
                    "bdata": "3gcAAN8HAADgBwAA4QcAAOIHAADjBwAA5AcAAA==",
                    "dtype": "i4"
                  },
                  "xaxis": "x",
                  "y": {
                    "bdata": "1AG3ARECLwIBAqABPAA=",
                    "dtype": "i2"
                  },
                  "yaxis": "y"
                },
                {
                  "hovertemplate": "Description=ROBBERY - STREET<br>Year=%{x}<br>Number of Incidents=%{y}<extra></extra>",
                  "legendgroup": "ROBBERY - STREET",
                  "marker": {
                    "color": "#00cc96",
                    "pattern": {
                      "shape": ""
                    }
                  },
                  "name": "ROBBERY - STREET",
                  "orientation": "v",
                  "showlegend": true,
                  "textposition": "auto",
                  "type": "bar",
                  "x": {
                    "bdata": "3gcAAN8HAADgBwAA4QcAAOIHAADjBwAA5AcAAA==",
                    "dtype": "i4"
                  },
                  "xaxis": "x",
                  "y": {
                    "bdata": "Zgo9DNcOfA8MDiMNBgE=",
                    "dtype": "i2"
                  },
                  "yaxis": "y"
                },
                {
                  "hovertemplate": "Description=SHOOTING<br>Year=%{x}<br>Number of Incidents=%{y}<extra></extra>",
                  "legendgroup": "SHOOTING",
                  "marker": {
                    "color": "#ab63fa",
                    "pattern": {
                      "shape": ""
                    }
                  },
                  "name": "SHOOTING",
                  "orientation": "v",
                  "showlegend": true,
                  "textposition": "auto",
                  "type": "bar",
                  "x": {
                    "bdata": "3gcAAN8HAADgBwAA4QcAAOIHAADjBwAA5AcAAA==",
                    "dtype": "i4"
                  },
                  "xaxis": "x",
                  "y": {
                    "bdata": "cQF4ApoCvwKlAgIDNAA=",
                    "dtype": "i2"
                  },
                  "yaxis": "y"
                }
              ],
              "layout": {
                "barmode": "stack",
                "legend": {
                  "title": {
                    "text": "Description"
                  },
                  "tracegroupgap": 0
                },
                "template": {
                  "data": {
                    "bar": [
                      {
                        "error_x": {
                          "color": "#2a3f5f"
                        },
                        "error_y": {
                          "color": "#2a3f5f"
                        },
                        "marker": {
                          "line": {
                            "color": "#E5ECF6",
                            "width": 0.5
                          },
                          "pattern": {
                            "fillmode": "overlay",
                            "size": 10,
                            "solidity": 0.2
                          }
                        },
                        "type": "bar"
                      }
                    ],
                    "barpolar": [
                      {
                        "marker": {
                          "line": {
                            "color": "#E5ECF6",
                            "width": 0.5
                          },
                          "pattern": {
                            "fillmode": "overlay",
                            "size": 10,
                            "solidity": 0.2
                          }
                        },
                        "type": "barpolar"
                      }
                    ],
                    "carpet": [
                      {
                        "aaxis": {
                          "endlinecolor": "#2a3f5f",
                          "gridcolor": "white",
                          "linecolor": "white",
                          "minorgridcolor": "white",
                          "startlinecolor": "#2a3f5f"
                        },
                        "baxis": {
                          "endlinecolor": "#2a3f5f",
                          "gridcolor": "white",
                          "linecolor": "white",
                          "minorgridcolor": "white",
                          "startlinecolor": "#2a3f5f"
                        },
                        "type": "carpet"
                      }
                    ],
                    "choropleth": [
                      {
                        "colorbar": {
                          "outlinewidth": 0,
                          "ticks": ""
                        },
                        "type": "choropleth"
                      }
                    ],
                    "contour": [
                      {
                        "colorbar": {
                          "outlinewidth": 0,
                          "ticks": ""
                        },
                        "colorscale": [
                          [
                            0,
                            "#0d0887"
                          ],
                          [
                            0.1111111111111111,
                            "#46039f"
                          ],
                          [
                            0.2222222222222222,
                            "#7201a8"
                          ],
                          [
                            0.3333333333333333,
                            "#9c179e"
                          ],
                          [
                            0.4444444444444444,
                            "#bd3786"
                          ],
                          [
                            0.5555555555555556,
                            "#d8576b"
                          ],
                          [
                            0.6666666666666666,
                            "#ed7953"
                          ],
                          [
                            0.7777777777777778,
                            "#fb9f3a"
                          ],
                          [
                            0.8888888888888888,
                            "#fdca26"
                          ],
                          [
                            1,
                            "#f0f921"
                          ]
                        ],
                        "type": "contour"
                      }
                    ],
                    "contourcarpet": [
                      {
                        "colorbar": {
                          "outlinewidth": 0,
                          "ticks": ""
                        },
                        "type": "contourcarpet"
                      }
                    ],
                    "heatmap": [
                      {
                        "colorbar": {
                          "outlinewidth": 0,
                          "ticks": ""
                        },
                        "colorscale": [
                          [
                            0,
                            "#0d0887"
                          ],
                          [
                            0.1111111111111111,
                            "#46039f"
                          ],
                          [
                            0.2222222222222222,
                            "#7201a8"
                          ],
                          [
                            0.3333333333333333,
                            "#9c179e"
                          ],
                          [
                            0.4444444444444444,
                            "#bd3786"
                          ],
                          [
                            0.5555555555555556,
                            "#d8576b"
                          ],
                          [
                            0.6666666666666666,
                            "#ed7953"
                          ],
                          [
                            0.7777777777777778,
                            "#fb9f3a"
                          ],
                          [
                            0.8888888888888888,
                            "#fdca26"
                          ],
                          [
                            1,
                            "#f0f921"
                          ]
                        ],
                        "type": "heatmap"
                      }
                    ],
                    "histogram": [
                      {
                        "marker": {
                          "pattern": {
                            "fillmode": "overlay",
                            "size": 10,
                            "solidity": 0.2
                          }
                        },
                        "type": "histogram"
                      }
                    ],
                    "histogram2d": [
                      {
                        "colorbar": {
                          "outlinewidth": 0,
                          "ticks": ""
                        },
                        "colorscale": [
                          [
                            0,
                            "#0d0887"
                          ],
                          [
                            0.1111111111111111,
                            "#46039f"
                          ],
                          [
                            0.2222222222222222,
                            "#7201a8"
                          ],
                          [
                            0.3333333333333333,
                            "#9c179e"
                          ],
                          [
                            0.4444444444444444,
                            "#bd3786"
                          ],
                          [
                            0.5555555555555556,
                            "#d8576b"
                          ],
                          [
                            0.6666666666666666,
                            "#ed7953"
                          ],
                          [
                            0.7777777777777778,
                            "#fb9f3a"
                          ],
                          [
                            0.8888888888888888,
                            "#fdca26"
                          ],
                          [
                            1,
                            "#f0f921"
                          ]
                        ],
                        "type": "histogram2d"
                      }
                    ],
                    "histogram2dcontour": [
                      {
                        "colorbar": {
                          "outlinewidth": 0,
                          "ticks": ""
                        },
                        "colorscale": [
                          [
                            0,
                            "#0d0887"
                          ],
                          [
                            0.1111111111111111,
                            "#46039f"
                          ],
                          [
                            0.2222222222222222,
                            "#7201a8"
                          ],
                          [
                            0.3333333333333333,
                            "#9c179e"
                          ],
                          [
                            0.4444444444444444,
                            "#bd3786"
                          ],
                          [
                            0.5555555555555556,
                            "#d8576b"
                          ],
                          [
                            0.6666666666666666,
                            "#ed7953"
                          ],
                          [
                            0.7777777777777778,
                            "#fb9f3a"
                          ],
                          [
                            0.8888888888888888,
                            "#fdca26"
                          ],
                          [
                            1,
                            "#f0f921"
                          ]
                        ],
                        "type": "histogram2dcontour"
                      }
                    ],
                    "mesh3d": [
                      {
                        "colorbar": {
                          "outlinewidth": 0,
                          "ticks": ""
                        },
                        "type": "mesh3d"
                      }
                    ],
                    "parcoords": [
                      {
                        "line": {
                          "colorbar": {
                            "outlinewidth": 0,
                            "ticks": ""
                          }
                        },
                        "type": "parcoords"
                      }
                    ],
                    "pie": [
                      {
                        "automargin": true,
                        "type": "pie"
                      }
                    ],
                    "scatter": [
                      {
                        "fillpattern": {
                          "fillmode": "overlay",
                          "size": 10,
                          "solidity": 0.2
                        },
                        "type": "scatter"
                      }
                    ],
                    "scatter3d": [
                      {
                        "line": {
                          "colorbar": {
                            "outlinewidth": 0,
                            "ticks": ""
                          }
                        },
                        "marker": {
                          "colorbar": {
                            "outlinewidth": 0,
                            "ticks": ""
                          }
                        },
                        "type": "scatter3d"
                      }
                    ],
                    "scattercarpet": [
                      {
                        "marker": {
                          "colorbar": {
                            "outlinewidth": 0,
                            "ticks": ""
                          }
                        },
                        "type": "scattercarpet"
                      }
                    ],
                    "scattergeo": [
                      {
                        "marker": {
                          "colorbar": {
                            "outlinewidth": 0,
                            "ticks": ""
                          }
                        },
                        "type": "scattergeo"
                      }
                    ],
                    "scattergl": [
                      {
                        "marker": {
                          "colorbar": {
                            "outlinewidth": 0,
                            "ticks": ""
                          }
                        },
                        "type": "scattergl"
                      }
                    ],
                    "scattermap": [
                      {
                        "marker": {
                          "colorbar": {
                            "outlinewidth": 0,
                            "ticks": ""
                          }
                        },
                        "type": "scattermap"
                      }
                    ],
                    "scattermapbox": [
                      {
                        "marker": {
                          "colorbar": {
                            "outlinewidth": 0,
                            "ticks": ""
                          }
                        },
                        "type": "scattermapbox"
                      }
                    ],
                    "scatterpolar": [
                      {
                        "marker": {
                          "colorbar": {
                            "outlinewidth": 0,
                            "ticks": ""
                          }
                        },
                        "type": "scatterpolar"
                      }
                    ],
                    "scatterpolargl": [
                      {
                        "marker": {
                          "colorbar": {
                            "outlinewidth": 0,
                            "ticks": ""
                          }
                        },
                        "type": "scatterpolargl"
                      }
                    ],
                    "scatterternary": [
                      {
                        "marker": {
                          "colorbar": {
                            "outlinewidth": 0,
                            "ticks": ""
                          }
                        },
                        "type": "scatterternary"
                      }
                    ],
                    "surface": [
                      {
                        "colorbar": {
                          "outlinewidth": 0,
                          "ticks": ""
                        },
                        "colorscale": [
                          [
                            0,
                            "#0d0887"
                          ],
                          [
                            0.1111111111111111,
                            "#46039f"
                          ],
                          [
                            0.2222222222222222,
                            "#7201a8"
                          ],
                          [
                            0.3333333333333333,
                            "#9c179e"
                          ],
                          [
                            0.4444444444444444,
                            "#bd3786"
                          ],
                          [
                            0.5555555555555556,
                            "#d8576b"
                          ],
                          [
                            0.6666666666666666,
                            "#ed7953"
                          ],
                          [
                            0.7777777777777778,
                            "#fb9f3a"
                          ],
                          [
                            0.8888888888888888,
                            "#fdca26"
                          ],
                          [
                            1,
                            "#f0f921"
                          ]
                        ],
                        "type": "surface"
                      }
                    ],
                    "table": [
                      {
                        "cells": {
                          "fill": {
                            "color": "#EBF0F8"
                          },
                          "line": {
                            "color": "white"
                          }
                        },
                        "header": {
                          "fill": {
                            "color": "#C8D4E3"
                          },
                          "line": {
                            "color": "white"
                          }
                        },
                        "type": "table"
                      }
                    ]
                  },
                  "layout": {
                    "annotationdefaults": {
                      "arrowcolor": "#2a3f5f",
                      "arrowhead": 0,
                      "arrowwidth": 1
                    },
                    "autotypenumbers": "strict",
                    "coloraxis": {
                      "colorbar": {
                        "outlinewidth": 0,
                        "ticks": ""
                      }
                    },
                    "colorscale": {
                      "diverging": [
                        [
                          0,
                          "#8e0152"
                        ],
                        [
                          0.1,
                          "#c51b7d"
                        ],
                        [
                          0.2,
                          "#de77ae"
                        ],
                        [
                          0.3,
                          "#f1b6da"
                        ],
                        [
                          0.4,
                          "#fde0ef"
                        ],
                        [
                          0.5,
                          "#f7f7f7"
                        ],
                        [
                          0.6,
                          "#e6f5d0"
                        ],
                        [
                          0.7,
                          "#b8e186"
                        ],
                        [
                          0.8,
                          "#7fbc41"
                        ],
                        [
                          0.9,
                          "#4d9221"
                        ],
                        [
                          1,
                          "#276419"
                        ]
                      ],
                      "sequential": [
                        [
                          0,
                          "#0d0887"
                        ],
                        [
                          0.1111111111111111,
                          "#46039f"
                        ],
                        [
                          0.2222222222222222,
                          "#7201a8"
                        ],
                        [
                          0.3333333333333333,
                          "#9c179e"
                        ],
                        [
                          0.4444444444444444,
                          "#bd3786"
                        ],
                        [
                          0.5555555555555556,
                          "#d8576b"
                        ],
                        [
                          0.6666666666666666,
                          "#ed7953"
                        ],
                        [
                          0.7777777777777778,
                          "#fb9f3a"
                        ],
                        [
                          0.8888888888888888,
                          "#fdca26"
                        ],
                        [
                          1,
                          "#f0f921"
                        ]
                      ],
                      "sequentialminus": [
                        [
                          0,
                          "#0d0887"
                        ],
                        [
                          0.1111111111111111,
                          "#46039f"
                        ],
                        [
                          0.2222222222222222,
                          "#7201a8"
                        ],
                        [
                          0.3333333333333333,
                          "#9c179e"
                        ],
                        [
                          0.4444444444444444,
                          "#bd3786"
                        ],
                        [
                          0.5555555555555556,
                          "#d8576b"
                        ],
                        [
                          0.6666666666666666,
                          "#ed7953"
                        ],
                        [
                          0.7777777777777778,
                          "#fb9f3a"
                        ],
                        [
                          0.8888888888888888,
                          "#fdca26"
                        ],
                        [
                          1,
                          "#f0f921"
                        ]
                      ]
                    },
                    "colorway": [
                      "#636efa",
                      "#EF553B",
                      "#00cc96",
                      "#ab63fa",
                      "#FFA15A",
                      "#19d3f3",
                      "#FF6692",
                      "#B6E880",
                      "#FF97FF",
                      "#FECB52"
                    ],
                    "font": {
                      "color": "#2a3f5f"
                    },
                    "geo": {
                      "bgcolor": "white",
                      "lakecolor": "white",
                      "landcolor": "#E5ECF6",
                      "showlakes": true,
                      "showland": true,
                      "subunitcolor": "white"
                    },
                    "hoverlabel": {
                      "align": "left"
                    },
                    "hovermode": "closest",
                    "mapbox": {
                      "style": "light"
                    },
                    "paper_bgcolor": "white",
                    "plot_bgcolor": "#E5ECF6",
                    "polar": {
                      "angularaxis": {
                        "gridcolor": "white",
                        "linecolor": "white",
                        "ticks": ""
                      },
                      "bgcolor": "#E5ECF6",
                      "radialaxis": {
                        "gridcolor": "white",
                        "linecolor": "white",
                        "ticks": ""
                      }
                    },
                    "scene": {
                      "xaxis": {
                        "backgroundcolor": "#E5ECF6",
                        "gridcolor": "white",
                        "gridwidth": 2,
                        "linecolor": "white",
                        "showbackground": true,
                        "ticks": "",
                        "zerolinecolor": "white"
                      },
                      "yaxis": {
                        "backgroundcolor": "#E5ECF6",
                        "gridcolor": "white",
                        "gridwidth": 2,
                        "linecolor": "white",
                        "showbackground": true,
                        "ticks": "",
                        "zerolinecolor": "white"
                      },
                      "zaxis": {
                        "backgroundcolor": "#E5ECF6",
                        "gridcolor": "white",
                        "gridwidth": 2,
                        "linecolor": "white",
                        "showbackground": true,
                        "ticks": "",
                        "zerolinecolor": "white"
                      }
                    },
                    "shapedefaults": {
                      "line": {
                        "color": "#2a3f5f"
                      }
                    },
                    "ternary": {
                      "aaxis": {
                        "gridcolor": "white",
                        "linecolor": "white",
                        "ticks": ""
                      },
                      "baxis": {
                        "gridcolor": "white",
                        "linecolor": "white",
                        "ticks": ""
                      },
                      "bgcolor": "#E5ECF6",
                      "caxis": {
                        "gridcolor": "white",
                        "linecolor": "white",
                        "ticks": ""
                      }
                    },
                    "title": {
                      "x": 0.05
                    },
                    "xaxis": {
                      "automargin": true,
                      "gridcolor": "white",
                      "linecolor": "white",
                      "ticks": "",
                      "title": {
                        "standoff": 15
                      },
                      "zerolinecolor": "white",
                      "zerolinewidth": 2
                    },
                    "yaxis": {
                      "automargin": true,
                      "gridcolor": "white",
                      "linecolor": "white",
                      "ticks": "",
                      "title": {
                        "standoff": 15
                      },
                      "zerolinecolor": "white",
                      "zerolinewidth": 2
                    }
                  }
                },
                "title": {
                  "text": "Yearly Crime Type Distribution"
                },
                "xaxis": {
                  "anchor": "y",
                  "domain": [
                    0,
                    1
                  ],
                  "title": {
                    "text": "Year"
                  },
                  "type": "category"
                },
                "yaxis": {
                  "anchor": "x",
                  "domain": [
                    0,
                    1
                  ],
                  "title": {
                    "text": "Number of Incidents"
                  }
                }
              }
            }
          },
          "metadata": {},
          "output_type": "display_data"
        },
        {
          "data": {
            "image/png": "[encoded data removed]",
            "text/plain": [
              "<Figure size 1200x800 with 2 Axes>"
            ]
          },
          "metadata": {},
          "output_type": "display_data"
        },
        {
          "data": {
            "image/png": "[encoded data removed]",
            "text/plain": [
              "<Figure size 1200x800 with 2 Axes>"
            ]
          },
          "metadata": {},
          "output_type": "display_data"
        }
      ],
      "source": [
        "import plotly.express as px\n",
        "\n",
        "# Convert the 'CrimeDate' column to datetime format\n",
        "df['CrimeDate'] = pd.to_datetime(df['CrimeDate'])\n",
        "\n",
        "# Extract year, month, and day of the week from the 'CrimeDate' column\n",
        "df['Year'] = df['CrimeDate'].dt.year\n",
        "df['Month'] = df['CrimeDate'].dt.strftime('%b')  # Use '%b' for short month names\n",
        "df['DayOfWeek'] = df['CrimeDate'].dt.day_name()\n",
        "\n",
        "# Calculate the total incidents for each row\n",
        "df['Total Incidents'] = 1\n",
        "\n",
        "# Set Seaborn style to a white background\n",
        "sns.set(style=\"whitegrid\", palette=\"tab20c\")\n",
        "\n",
        "# Yearly crime type distribution (Stacked Plot)\n",
        "yearly_crime_counts = df.groupby(['Year', 'Description'])['Total Incidents'].sum().reset_index()\n",
        "fig_yearly = px.bar(yearly_crime_counts, x='Year', y='Total Incidents', color='Description',\n",
        "                    title='Yearly Crime Type Distribution',\n",
        "                    labels={'Total Incidents': 'Number of Incidents'},\n",
        "                    barmode='stack')\n",
        "fig_yearly.update_xaxes(type='category')  # Ensure years are treated as categories\n",
        "#fig_yearly.update_traces(texttemplate='%{y}', textposition='inside')  # Add tooltips showing incident count\n",
        "fig_yearly.show()\n",
        "\n",
        "# Monthly crime type distribution (Heatmap with x and y axes interchanged)\n",
        "monthly_crime_counts = df.groupby(['Month', 'Description'])['Total Incidents'].sum().unstack(fill_value=0)\n",
        "plt.figure(figsize=(12, 8))\n",
        "sns.heatmap(monthly_crime_counts.T, cmap=\"YlGnBu\", cbar_kws={'label': 'Number of Incidents'})\n",
        "plt.title('Monthly Crime Type Distribution',fontsize=16)\n",
        "plt.xlabel('Month',fontsize=16)\n",
        "plt.ylabel('Crime Type',fontsize=16)\n",
        "plt.show()\n",
        "\n",
        "# Day of the week crime type distribution (Heatmap with x and y axes interchanged)\n",
        "day_of_week_crime_counts = df.groupby(['DayOfWeek', 'Description'])['Total Incidents'].sum().unstack(fill_value=0)\n",
        "day_order = ['Monday', 'Tuesday', 'Wednesday', 'Thursday', 'Friday', 'Saturday', 'Sunday']\n",
        "day_of_week_crime_counts = day_of_week_crime_counts.reindex(day_order)\n",
        "plt.figure(figsize=(12, 8))\n",
        "sns.heatmap(day_of_week_crime_counts.T, cmap=\"YlGnBu\", cbar_kws={'label': 'Number of Incidents'})\n",
        "plt.title('Day of the Week Crime Type Distribution',fontsize=16)\n",
        "plt.xlabel('Day of the Week',fontsize=16)\n",
        "plt.ylabel('Crime Type',fontsize=16)\n",
        "plt.show()\n"
      ]
    },
    {
      "cell_type": "markdown",
      "id": "4d5805c0",
      "metadata": {
        "id": "4d5805c0"
      },
      "source": [
        "#### Task5 Design a dashboard that allows users like Gary to explore the spatial and temporal patterns of crime. You may get inspiration from tasks 2-4, but feel free to add insights. Bonus: Create a real dynamic dashboard that allows users to change parameters such as location and time period."
      ]
    },
    {
      "cell_type": "code",
      "execution_count": 6,
      "id": "dee1b6b1",
      "metadata": {
        "id": "dee1b6b1"
      },
      "outputs": [
        {
          "data": {
            "text/html": [
              "\n",
              "        <iframe\n",
              "            width=\"100%\"\n",
              "            height=\"650\"\n",
              "            src=\"http://127.0.0.1:8050/\"\n",
              "            frameborder=\"0\"\n",
              "            allowfullscreen\n",
              "            \n",
              "        ></iframe>\n",
              "        "
            ],
            "text/plain": [
              "<IPython.lib.display.IFrame at 0x1e8de92f5c0>"
            ]
          },
          "metadata": {},
          "output_type": "display_data"
        }
      ],
      "source": [
        "import pandas as pd\n",
        "import dash\n",
        "from dash import dcc, html, Input, Output\n",
        "import plotly.express as px\n",
        "import plotly.graph_objects as go\n",
        "\n",
        "# Clean Data\n",
        "df['CrimeDate'] = pd.to_datetime(df['CrimeDate'], errors='coerce')\n",
        "df = df.dropna(subset=['CrimeDate'])\n",
        "df['Latitude'] = pd.to_numeric(df['Latitude'], errors='coerce')\n",
        "df['Longitude'] = pd.to_numeric(df['Longitude'], errors='coerce')\n",
        "df = df.dropna(subset=['Latitude', 'Longitude'])\n",
        "df = df.dropna(subset=['Description'])\n",
        "\n",
        "# Extract temporal features for easier filtering\n",
        "df['Year'] = df['CrimeDate'].dt.year\n",
        "df['Month'] = df['CrimeDate'].dt.month\n",
        "df['Day'] = df['CrimeDate'].dt.day\n",
        "df['Weekday'] = df['CrimeDate'].dt.dayofweek  # 0=Monday, 6=Sunday\n",
        "\n",
        "# Month and weekday names for better labeling\n",
        "month_names = [\n",
        "    'January', 'February', 'March', 'April', 'May', 'June', 'July', 'August', 'September', \n",
        "    'October', 'November', 'December'\n",
        "]\n",
        "weekday_names = ['Monday', 'Tuesday', 'Wednesday', 'Thursday', 'Friday', 'Saturday', 'Sunday']\n",
        "\n",
        "# Replace numeric month and weekday values with names\n",
        "df['MonthName'] = df['Month'].apply(lambda x: month_names[x-1])  # Adjust month indexing (0-based)\n",
        "df['WeekdayName'] = df['Weekday'].apply(lambda x: weekday_names[x])\n",
        "\n",
        "# Initialize Dash app\n",
        "app = dash.Dash(__name__)\n",
        "\n",
        "# Dropdown options for Year, Month, and Day of Week\n",
        "year_options = [{'label': str(year), 'value': year} for year in df['Year'].unique()]\n",
        "month_options = [{'label': month, 'value': month} for month in range(1, 13)]  # Months from 1 to 12\n",
        "weekday_options = [{'label': weekday, 'value': i} for i, weekday in enumerate(weekday_names)]  # Days of the week (0=Monday to 6=Sunday)\n",
        "\n",
        "# Define the layout of the dashboard\n",
        "app.layout = html.Div([\n",
        "    html.H1(\"Crime Data Dashboard\", style={'text-align': 'center', 'color': '#333', 'font-family': 'Arial, sans-serif'}),\n",
        "    \n",
        "    # Filters for Year, Month, and Day of Week\n",
        "    html.Div([\n",
        "        html.Div([  # Year Filter\n",
        "            html.Label('Select Year', style={'font-size': '16px', 'font-weight': 'bold', 'margin-bottom': '5px'}),\n",
        "            dcc.Dropdown(\n",
        "                id='year-dropdown',\n",
        "                options=year_options,\n",
        "                value=year_options[0]['value'],  # Default value\n",
        "                multi=False,\n",
        "                style={'width': '100%', 'padding': '10px', 'box-sizing': 'border-box'}\n",
        "            ),\n",
        "        ], style={'width': '30%', 'padding': '10px', 'display': 'inline-block', 'vertical-align': 'top'}),\n",
        "\n",
        "        html.Div([  # Month Filter\n",
        "            html.Label('Select Month', style={'font-size': '16px', 'font-weight': 'bold', 'margin-bottom': '5px'}),\n",
        "            dcc.Dropdown(\n",
        "                id='month-dropdown',\n",
        "                options=month_options,\n",
        "                value=1,  # Default value (January)\n",
        "                multi=False,\n",
        "                style={'width': '100%', 'padding': '10px', 'box-sizing': 'border-box'}\n",
        "            ),\n",
        "        ], style={'width': '30%', 'padding': '10px', 'display': 'inline-block', 'vertical-align': 'top'}),\n",
        "\n",
        "        html.Div([  # Weekday Filter\n",
        "            html.Label('Select Weekday', style={'font-size': '16px', 'font-weight': 'bold', 'margin-bottom': '5px'}),\n",
        "            dcc.Dropdown(\n",
        "                id='weekday-dropdown',\n",
        "                options=weekday_options,\n",
        "                value=0,  # Default value (Monday)\n",
        "                multi=False,\n",
        "                style={'width': '100%', 'padding': '10px', 'box-sizing': 'border-box'}\n",
        "            ),\n",
        "        ], style={'width': '30%', 'padding': '10px', 'display': 'inline-block', 'vertical-align': 'top'}), \n",
        "    ], style={'padding': '20px', 'display': 'flex', 'justify-content': 'center', 'flex-wrap': 'wrap'}),\n",
        "\n",
        "    # Graphs to display: Crime Type Distribution, Temporal Patterns\n",
        "    html.Div([\n",
        "        dcc.Graph(id='crime-type-distribution', style={'margin-top': '20px'}),\n",
        "        dcc.Graph(id='temporal-patterns', style={'margin-top': '20px'}),\n",
        "        dcc.Graph(id='crime-location-heatmap', style={'margin-top': '20px'}),  # Added Heatmap\n",
        "    ], style={'padding': '20px', 'display': 'flex', 'justify-content': 'center', 'flex-direction': 'column'}),\n",
        "])\n",
        "\n",
        "# Callback to update the plots based on user input (year, month, weekday)\n",
        "@app.callback(\n",
        "    [Output('crime-type-distribution', 'figure'),\n",
        "     Output('temporal-patterns', 'figure')],\n",
        "    [Input('year-dropdown', 'value'),\n",
        "     Input('month-dropdown', 'value'),\n",
        "     Input('weekday-dropdown', 'value')]\n",
        ")\n",
        "def update_plots(selected_year, selected_month, selected_weekday):\n",
        "    # Filter the dataset based on user input\n",
        "    filtered_df = df[(df['Year'] == selected_year) & \n",
        "                     (df['Month'] == selected_month) & \n",
        "                     (df['Weekday'] == selected_weekday)]\n",
        "    \n",
        "    # Check if filtered data is empty\n",
        "    if filtered_df.empty:\n",
        "        return {}, {}\n",
        "\n",
        "    # 1. Crime Type Distribution (Bar Plot)\n",
        "    crime_type_counts = filtered_df['Description'].value_counts().reset_index()\n",
        "    crime_type_counts.columns = ['Crime Type', 'Count']\n",
        "    crime_type_plot = px.bar(\n",
        "        crime_type_counts, \n",
        "        x='Crime Type', y='Count', \n",
        "        title=f'Crime Type Distribution ({selected_year} - {month_names[selected_month-1]} - {weekday_names[selected_weekday]})',\n",
        "        labels={'Crime Type': 'Crime Type', 'Count': 'Number of Incidents'},\n",
        "        template='plotly_dark'\n",
        "    )\n",
        "\n",
        "    # 2. Temporal Pattern (Using full Date instead of just Day)\n",
        "    filtered_df.loc[:, 'Date'] = pd.to_datetime(filtered_df[['Year', 'Month', 'Day']])  # Fixing SettingWithCopyWarning\n",
        "    temporal_data = filtered_df.groupby('Date').size().reset_index(name='Incidents')\n",
        "    \n",
        "    # Temporal plot with date formatting for better granularity\n",
        "    temporal_plot = px.line(\n",
        "        temporal_data, \n",
        "        x='Date', y='Incidents', \n",
        "        title=f'Temporal Pattern ({selected_year} - {month_names[selected_month-1]} - {weekday_names[selected_weekday]})',\n",
        "        labels={'Incidents': 'Number of Incidents'},\n",
        "        template='plotly_dark'\n",
        "    )\n",
        "\n",
        "    # Format the x-axis with a custom date format for readability\n",
        "    temporal_plot.update_xaxes(\n",
        "        tickformat='%Y-%m-%d',  # YYYY-MM-DD format for better clarity\n",
        "        tickangle=45,  # Rotate the ticks for better legibility\n",
        "        tickmode='linear'  # Use a linear tickmode for continuous dates\n",
        "    )\n",
        "\n",
        "    return crime_type_plot, temporal_plot\n",
        "\n",
        "\n",
        "# Callback for Heatmap that is independent of dropdown parameters\n",
        "@app.callback(\n",
        "    Output('crime-location-heatmap', 'figure'),\n",
        "    [Input('year-dropdown', 'value')]  # Dummy input to trigger callback\n",
        ")\n",
        "def update_heatmap(_):\n",
        "    # Create the heatmap with all data, replacing density_mapbox with density_map\n",
        "    crime_location_heatmap = px.density_map(\n",
        "        df, \n",
        "        lat='Latitude', lon='Longitude', \n",
        "        z='Description', \n",
        "        color_continuous_scale=\"Viridis\", \n",
        "        title=\"Crime Location Heatmap\"\n",
        "    )\n",
        "    crime_location_heatmap.update_layout(mapbox_zoom=3)\n",
        "\n",
        "    return crime_location_heatmap\n",
        "\n",
        "\n",
        "# Run the app\n",
        "if __name__ == '__main__':\n",
        "    app.run_server(debug=True)\n",
        "\n"
      ]
    }
  ],
  "metadata": {
    "colab": {
      "provenance": []
    },
    "kernelspec": {
      "display_name": ".venv",
      "language": "python",
      "name": "python3"
    },
    "language_info": {
      "codemirror_mode": {
        "name": "ipython",
        "version": 3
      },
      "file_extension": ".py",
      "mimetype": "text/x-python",
      "name": "python",
      "nbconvert_exporter": "python",
      "pygments_lexer": "ipython3",
      "version": "3.12.4"
    },
    "widgets": {
      "application/vnd.jupyter.widget-state+json": {
        "006ca7921360406287bf79ab36135ec3": {
          "model_module": "@jupyter-widgets/controls",
          "model_module_version": "1.5.0",
          "model_name": "FloatProgressModel",
          "state": {
            "_dom_classes": [],
            "_model_module": "@jupyter-widgets/controls",
            "_model_module_version": "1.5.0",
            "_model_name": "FloatProgressModel",
            "_view_count": null,
            "_view_module": "@jupyter-widgets/controls",
            "_view_module_version": "1.5.0",
            "_view_name": "ProgressView",
            "bar_style": "success",
            "description": "",
            "description_tooltip": null,
            "layout": "IPY_MODEL_6a0bf5259fc3420c96124d61859a090e",
            "max": 5,
            "min": 0,
            "orientation": "horizontal",
            "style": "IPY_MODEL_ef89da8415994f489543ea1d37df159f",
            "value": 5
          }
        },
        "05e38f10cfa14e32a4795f5a1b7a5e46": {
          "model_module": "@jupyter-widgets/controls",
          "model_module_version": "1.5.0",
          "model_name": "HTMLModel",
          "state": {
            "_dom_classes": [],
            "_model_module": "@jupyter-widgets/controls",
            "_model_module_version": "1.5.0",
            "_model_name": "HTMLModel",
            "_view_count": null,
            "_view_module": "@jupyter-widgets/controls",
            "_view_module_version": "1.5.0",
            "_view_name": "HTMLView",
            "description": "",
            "description_tooltip": null,
            "layout": "IPY_MODEL_1963a20faf6e4bf6aff6dc2c052cd1d8",
            "placeholder": "​",
            "style": "IPY_MODEL_ba0e484d059e429a87d26e1738429d1f",
            "value": " 30/30 [00:17&lt;00:00,  2.21it/s, Completed]"
          }
        },
        "067492c788a24e75bc16f69499ab10b8": {
          "model_module": "@jupyter-widgets/controls",
          "model_module_version": "1.5.0",
          "model_name": "DescriptionStyleModel",
          "state": {
            "_model_module": "@jupyter-widgets/controls",
            "_model_module_version": "1.5.0",
            "_model_name": "DescriptionStyleModel",
            "_view_count": null,
            "_view_module": "@jupyter-widgets/base",
            "_view_module_version": "1.2.0",
            "_view_name": "StyleView",
            "description_width": ""
          }
        },
        "0ce751791ebf45098583ba6302f52503": {
          "model_module": "@jupyter-widgets/base",
          "model_module_version": "1.2.0",
          "model_name": "LayoutModel",
          "state": {
            "_model_module": "@jupyter-widgets/base",
            "_model_module_version": "1.2.0",
            "_model_name": "LayoutModel",
            "_view_count": null,
            "_view_module": "@jupyter-widgets/base",
            "_view_module_version": "1.2.0",
            "_view_name": "LayoutView",
            "align_content": null,
            "align_items": null,
            "align_self": null,
            "border": null,
            "bottom": null,
            "display": null,
            "flex": null,
            "flex_flow": null,
            "grid_area": null,
            "grid_auto_columns": null,
            "grid_auto_flow": null,
            "grid_auto_rows": null,
            "grid_column": null,
            "grid_gap": null,
            "grid_row": null,
            "grid_template_areas": null,
            "grid_template_columns": null,
            "grid_template_rows": null,
            "height": null,
            "justify_content": null,
            "justify_items": null,
            "left": null,
            "margin": null,
            "max_height": null,
            "max_width": null,
            "min_height": null,
            "min_width": null,
            "object_fit": null,
            "object_position": null,
            "order": null,
            "overflow": null,
            "overflow_x": null,
            "overflow_y": null,
            "padding": null,
            "right": null,
            "top": null,
            "visibility": null,
            "width": null
          }
        },
        "18bd22edff1b4de8b69469ad5111952f": {
          "model_module": "@jupyter-widgets/controls",
          "model_module_version": "1.5.0",
          "model_name": "FloatProgressModel",
          "state": {
            "_dom_classes": [],
            "_model_module": "@jupyter-widgets/controls",
            "_model_module_version": "1.5.0",
            "_model_name": "FloatProgressModel",
            "_view_count": null,
            "_view_module": "@jupyter-widgets/controls",
            "_view_module_version": "1.5.0",
            "_view_name": "ProgressView",
            "bar_style": "success",
            "description": "",
            "description_tooltip": null,
            "layout": "IPY_MODEL_3c4fe1265a4440e79cd280abb18b82d1",
            "max": 1,
            "min": 0,
            "orientation": "horizontal",
            "style": "IPY_MODEL_7fd371f161c146fa99e19c7698f01ef2",
            "value": 1
          }
        },
        "1963a20faf6e4bf6aff6dc2c052cd1d8": {
          "model_module": "@jupyter-widgets/base",
          "model_module_version": "1.2.0",
          "model_name": "LayoutModel",
          "state": {
            "_model_module": "@jupyter-widgets/base",
            "_model_module_version": "1.2.0",
            "_model_name": "LayoutModel",
            "_view_count": null,
            "_view_module": "@jupyter-widgets/base",
            "_view_module_version": "1.2.0",
            "_view_name": "LayoutView",
            "align_content": null,
            "align_items": null,
            "align_self": null,
            "border": null,
            "bottom": null,
            "display": null,
            "flex": null,
            "flex_flow": null,
            "grid_area": null,
            "grid_auto_columns": null,
            "grid_auto_flow": null,
            "grid_auto_rows": null,
            "grid_column": null,
            "grid_gap": null,
            "grid_row": null,
            "grid_template_areas": null,
            "grid_template_columns": null,
            "grid_template_rows": null,
            "height": null,
            "justify_content": null,
            "justify_items": null,
            "left": null,
            "margin": null,
            "max_height": null,
            "max_width": null,
            "min_height": null,
            "min_width": null,
            "object_fit": null,
            "object_position": null,
            "order": null,
            "overflow": null,
            "overflow_x": null,
            "overflow_y": null,
            "padding": null,
            "right": null,
            "top": null,
            "visibility": null,
            "width": null
          }
        },
        "1d6edfbadcc246808d9d6001dddf38fc": {
          "model_module": "@jupyter-widgets/controls",
          "model_module_version": "1.5.0",
          "model_name": "HTMLModel",
          "state": {
            "_dom_classes": [],
            "_model_module": "@jupyter-widgets/controls",
            "_model_module_version": "1.5.0",
            "_model_name": "HTMLModel",
            "_view_count": null,
            "_view_module": "@jupyter-widgets/controls",
            "_view_module_version": "1.5.0",
            "_view_name": "HTMLView",
            "description": "",
            "description_tooltip": null,
            "layout": "IPY_MODEL_4e55ff74160c42989c3d0606a76eae85",
            "placeholder": "​",
            "style": "IPY_MODEL_8eee8670ef7043a5895d9f3973259efc",
            "value": "Generate report structure: 100%"
          }
        },
        "1fba981e45ae4097ae7a56d8dc9748cb": {
          "model_module": "@jupyter-widgets/base",
          "model_module_version": "1.2.0",
          "model_name": "LayoutModel",
          "state": {
            "_model_module": "@jupyter-widgets/base",
            "_model_module_version": "1.2.0",
            "_model_name": "LayoutModel",
            "_view_count": null,
            "_view_module": "@jupyter-widgets/base",
            "_view_module_version": "1.2.0",
            "_view_name": "LayoutView",
            "align_content": null,
            "align_items": null,
            "align_self": null,
            "border": null,
            "bottom": null,
            "display": null,
            "flex": null,
            "flex_flow": null,
            "grid_area": null,
            "grid_auto_columns": null,
            "grid_auto_flow": null,
            "grid_auto_rows": null,
            "grid_column": null,
            "grid_gap": null,
            "grid_row": null,
            "grid_template_areas": null,
            "grid_template_columns": null,
            "grid_template_rows": null,
            "height": null,
            "justify_content": null,
            "justify_items": null,
            "left": null,
            "margin": null,
            "max_height": null,
            "max_width": null,
            "min_height": null,
            "min_width": null,
            "object_fit": null,
            "object_position": null,
            "order": null,
            "overflow": null,
            "overflow_x": null,
            "overflow_y": null,
            "padding": null,
            "right": null,
            "top": null,
            "visibility": null,
            "width": null
          }
        },
        "2084f390d4a84e7ca7258d5c8b8d9f05": {
          "model_module": "@jupyter-widgets/controls",
          "model_module_version": "1.5.0",
          "model_name": "HBoxModel",
          "state": {
            "_dom_classes": [],
            "_model_module": "@jupyter-widgets/controls",
            "_model_module_version": "1.5.0",
            "_model_name": "HBoxModel",
            "_view_count": null,
            "_view_module": "@jupyter-widgets/controls",
            "_view_module_version": "1.5.0",
            "_view_name": "HBoxView",
            "box_style": "",
            "children": [
              "IPY_MODEL_fb19030cf2a04bba9356d2b5a76e9d55",
              "IPY_MODEL_006ca7921360406287bf79ab36135ec3",
              "IPY_MODEL_05e38f10cfa14e32a4795f5a1b7a5e46"
            ],
            "layout": "IPY_MODEL_9dd61d2fa97142d0bd7c736a10f19bd0"
          }
        },
        "23d4fdaa8a564e9fa406c245478cb401": {
          "model_module": "@jupyter-widgets/controls",
          "model_module_version": "1.5.0",
          "model_name": "ProgressStyleModel",
          "state": {
            "_model_module": "@jupyter-widgets/controls",
            "_model_module_version": "1.5.0",
            "_model_name": "ProgressStyleModel",
            "_view_count": null,
            "_view_module": "@jupyter-widgets/base",
            "_view_module_version": "1.2.0",
            "_view_name": "StyleView",
            "bar_color": null,
            "description_width": ""
          }
        },
        "243556c0e67a4549bb477a02d73dc986": {
          "model_module": "@jupyter-widgets/controls",
          "model_module_version": "1.5.0",
          "model_name": "DescriptionStyleModel",
          "state": {
            "_model_module": "@jupyter-widgets/controls",
            "_model_module_version": "1.5.0",
            "_model_name": "DescriptionStyleModel",
            "_view_count": null,
            "_view_module": "@jupyter-widgets/base",
            "_view_module_version": "1.2.0",
            "_view_name": "StyleView",
            "description_width": ""
          }
        },
        "2e142a5412ac4e2dafdc68b3d6e1c1f7": {
          "model_module": "@jupyter-widgets/controls",
          "model_module_version": "1.5.0",
          "model_name": "HTMLModel",
          "state": {
            "_dom_classes": [],
            "_model_module": "@jupyter-widgets/controls",
            "_model_module_version": "1.5.0",
            "_model_name": "HTMLModel",
            "_view_count": null,
            "_view_module": "@jupyter-widgets/controls",
            "_view_module_version": "1.5.0",
            "_view_name": "HTMLView",
            "description": "",
            "description_tooltip": null,
            "layout": "IPY_MODEL_caf07192cfab46dcb8a2346f5be2aef7",
            "placeholder": "​",
            "style": "IPY_MODEL_067492c788a24e75bc16f69499ab10b8",
            "value": "Export report to file: 100%"
          }
        },
        "37d17172773148059824b658da24a977": {
          "model_module": "@jupyter-widgets/controls",
          "model_module_version": "1.5.0",
          "model_name": "HBoxModel",
          "state": {
            "_dom_classes": [],
            "_model_module": "@jupyter-widgets/controls",
            "_model_module_version": "1.5.0",
            "_model_name": "HBoxModel",
            "_view_count": null,
            "_view_module": "@jupyter-widgets/controls",
            "_view_module_version": "1.5.0",
            "_view_name": "HBoxView",
            "box_style": "",
            "children": [
              "IPY_MODEL_cc610bdb2b10491aa708130c27569578",
              "IPY_MODEL_4770312d6e20420cbc5e3bb8d263e243",
              "IPY_MODEL_38a5d7e6f301495993e2dd032e2194d7"
            ],
            "layout": "IPY_MODEL_bbb0459e4ade4673a245e0761bc06bab"
          }
        },
        "38a5d7e6f301495993e2dd032e2194d7": {
          "model_module": "@jupyter-widgets/controls",
          "model_module_version": "1.5.0",
          "model_name": "HTMLModel",
          "state": {
            "_dom_classes": [],
            "_model_module": "@jupyter-widgets/controls",
            "_model_module_version": "1.5.0",
            "_model_name": "HTMLModel",
            "_view_count": null,
            "_view_module": "@jupyter-widgets/controls",
            "_view_module_version": "1.5.0",
            "_view_name": "HTMLView",
            "description": "",
            "description_tooltip": null,
            "layout": "IPY_MODEL_4b38a03d5be6434db509965e72581b08",
            "placeholder": "​",
            "style": "IPY_MODEL_6ed197a5b93748659d4f36d237ee262f",
            "value": " 1/1 [00:00&lt;00:00,  1.13it/s]"
          }
        },
        "3c4fe1265a4440e79cd280abb18b82d1": {
          "model_module": "@jupyter-widgets/base",
          "model_module_version": "1.2.0",
          "model_name": "LayoutModel",
          "state": {
            "_model_module": "@jupyter-widgets/base",
            "_model_module_version": "1.2.0",
            "_model_name": "LayoutModel",
            "_view_count": null,
            "_view_module": "@jupyter-widgets/base",
            "_view_module_version": "1.2.0",
            "_view_name": "LayoutView",
            "align_content": null,
            "align_items": null,
            "align_self": null,
            "border": null,
            "bottom": null,
            "display": null,
            "flex": null,
            "flex_flow": null,
            "grid_area": null,
            "grid_auto_columns": null,
            "grid_auto_flow": null,
            "grid_auto_rows": null,
            "grid_column": null,
            "grid_gap": null,
            "grid_row": null,
            "grid_template_areas": null,
            "grid_template_columns": null,
            "grid_template_rows": null,
            "height": null,
            "justify_content": null,
            "justify_items": null,
            "left": null,
            "margin": null,
            "max_height": null,
            "max_width": null,
            "min_height": null,
            "min_width": null,
            "object_fit": null,
            "object_position": null,
            "order": null,
            "overflow": null,
            "overflow_x": null,
            "overflow_y": null,
            "padding": null,
            "right": null,
            "top": null,
            "visibility": null,
            "width": null
          }
        },
        "4690a6aeb6954c26b9259d3ccffebf8b": {
          "model_module": "@jupyter-widgets/controls",
          "model_module_version": "1.5.0",
          "model_name": "DescriptionStyleModel",
          "state": {
            "_model_module": "@jupyter-widgets/controls",
            "_model_module_version": "1.5.0",
            "_model_name": "DescriptionStyleModel",
            "_view_count": null,
            "_view_module": "@jupyter-widgets/base",
            "_view_module_version": "1.2.0",
            "_view_name": "StyleView",
            "description_width": ""
          }
        },
        "4770312d6e20420cbc5e3bb8d263e243": {
          "model_module": "@jupyter-widgets/controls",
          "model_module_version": "1.5.0",
          "model_name": "FloatProgressModel",
          "state": {
            "_dom_classes": [],
            "_model_module": "@jupyter-widgets/controls",
            "_model_module_version": "1.5.0",
            "_model_name": "FloatProgressModel",
            "_view_count": null,
            "_view_module": "@jupyter-widgets/controls",
            "_view_module_version": "1.5.0",
            "_view_name": "ProgressView",
            "bar_style": "success",
            "description": "",
            "description_tooltip": null,
            "layout": "IPY_MODEL_96907759f87a4091aa34a69bafeb0d15",
            "max": 1,
            "min": 0,
            "orientation": "horizontal",
            "style": "IPY_MODEL_23d4fdaa8a564e9fa406c245478cb401",
            "value": 1
          }
        },
        "4b38a03d5be6434db509965e72581b08": {
          "model_module": "@jupyter-widgets/base",
          "model_module_version": "1.2.0",
          "model_name": "LayoutModel",
          "state": {
            "_model_module": "@jupyter-widgets/base",
            "_model_module_version": "1.2.0",
            "_model_name": "LayoutModel",
            "_view_count": null,
            "_view_module": "@jupyter-widgets/base",
            "_view_module_version": "1.2.0",
            "_view_name": "LayoutView",
            "align_content": null,
            "align_items": null,
            "align_self": null,
            "border": null,
            "bottom": null,
            "display": null,
            "flex": null,
            "flex_flow": null,
            "grid_area": null,
            "grid_auto_columns": null,
            "grid_auto_flow": null,
            "grid_auto_rows": null,
            "grid_column": null,
            "grid_gap": null,
            "grid_row": null,
            "grid_template_areas": null,
            "grid_template_columns": null,
            "grid_template_rows": null,
            "height": null,
            "justify_content": null,
            "justify_items": null,
            "left": null,
            "margin": null,
            "max_height": null,
            "max_width": null,
            "min_height": null,
            "min_width": null,
            "object_fit": null,
            "object_position": null,
            "order": null,
            "overflow": null,
            "overflow_x": null,
            "overflow_y": null,
            "padding": null,
            "right": null,
            "top": null,
            "visibility": null,
            "width": null
          }
        },
        "4e55ff74160c42989c3d0606a76eae85": {
          "model_module": "@jupyter-widgets/base",
          "model_module_version": "1.2.0",
          "model_name": "LayoutModel",
          "state": {
            "_model_module": "@jupyter-widgets/base",
            "_model_module_version": "1.2.0",
            "_model_name": "LayoutModel",
            "_view_count": null,
            "_view_module": "@jupyter-widgets/base",
            "_view_module_version": "1.2.0",
            "_view_name": "LayoutView",
            "align_content": null,
            "align_items": null,
            "align_self": null,
            "border": null,
            "bottom": null,
            "display": null,
            "flex": null,
            "flex_flow": null,
            "grid_area": null,
            "grid_auto_columns": null,
            "grid_auto_flow": null,
            "grid_auto_rows": null,
            "grid_column": null,
            "grid_gap": null,
            "grid_row": null,
            "grid_template_areas": null,
            "grid_template_columns": null,
            "grid_template_rows": null,
            "height": null,
            "justify_content": null,
            "justify_items": null,
            "left": null,
            "margin": null,
            "max_height": null,
            "max_width": null,
            "min_height": null,
            "min_width": null,
            "object_fit": null,
            "object_position": null,
            "order": null,
            "overflow": null,
            "overflow_x": null,
            "overflow_y": null,
            "padding": null,
            "right": null,
            "top": null,
            "visibility": null,
            "width": null
          }
        },
        "6a0bf5259fc3420c96124d61859a090e": {
          "model_module": "@jupyter-widgets/base",
          "model_module_version": "1.2.0",
          "model_name": "LayoutModel",
          "state": {
            "_model_module": "@jupyter-widgets/base",
            "_model_module_version": "1.2.0",
            "_model_name": "LayoutModel",
            "_view_count": null,
            "_view_module": "@jupyter-widgets/base",
            "_view_module_version": "1.2.0",
            "_view_name": "LayoutView",
            "align_content": null,
            "align_items": null,
            "align_self": null,
            "border": null,
            "bottom": null,
            "display": null,
            "flex": null,
            "flex_flow": null,
            "grid_area": null,
            "grid_auto_columns": null,
            "grid_auto_flow": null,
            "grid_auto_rows": null,
            "grid_column": null,
            "grid_gap": null,
            "grid_row": null,
            "grid_template_areas": null,
            "grid_template_columns": null,
            "grid_template_rows": null,
            "height": null,
            "justify_content": null,
            "justify_items": null,
            "left": null,
            "margin": null,
            "max_height": null,
            "max_width": null,
            "min_height": null,
            "min_width": null,
            "object_fit": null,
            "object_position": null,
            "order": null,
            "overflow": null,
            "overflow_x": null,
            "overflow_y": null,
            "padding": null,
            "right": null,
            "top": null,
            "visibility": null,
            "width": null
          }
        },
        "6ed197a5b93748659d4f36d237ee262f": {
          "model_module": "@jupyter-widgets/controls",
          "model_module_version": "1.5.0",
          "model_name": "DescriptionStyleModel",
          "state": {
            "_model_module": "@jupyter-widgets/controls",
            "_model_module_version": "1.5.0",
            "_model_name": "DescriptionStyleModel",
            "_view_count": null,
            "_view_module": "@jupyter-widgets/base",
            "_view_module_version": "1.2.0",
            "_view_name": "StyleView",
            "description_width": ""
          }
        },
        "747af473dd974dc78d3d9cb7860747d4": {
          "model_module": "@jupyter-widgets/controls",
          "model_module_version": "1.5.0",
          "model_name": "HBoxModel",
          "state": {
            "_dom_classes": [],
            "_model_module": "@jupyter-widgets/controls",
            "_model_module_version": "1.5.0",
            "_model_name": "HBoxModel",
            "_view_count": null,
            "_view_module": "@jupyter-widgets/controls",
            "_view_module_version": "1.5.0",
            "_view_name": "HBoxView",
            "box_style": "",
            "children": [
              "IPY_MODEL_2e142a5412ac4e2dafdc68b3d6e1c1f7",
              "IPY_MODEL_f48e5c6d48ca447c88a15f47e8399cfa",
              "IPY_MODEL_7bd848c0ac364f9cb1503169e582d3ff"
            ],
            "layout": "IPY_MODEL_afa7708dec934f6cbcb3cd2baa8aff00"
          }
        },
        "7bd848c0ac364f9cb1503169e582d3ff": {
          "model_module": "@jupyter-widgets/controls",
          "model_module_version": "1.5.0",
          "model_name": "HTMLModel",
          "state": {
            "_dom_classes": [],
            "_model_module": "@jupyter-widgets/controls",
            "_model_module_version": "1.5.0",
            "_model_name": "HTMLModel",
            "_view_count": null,
            "_view_module": "@jupyter-widgets/controls",
            "_view_module_version": "1.5.0",
            "_view_name": "HTMLView",
            "description": "",
            "description_tooltip": null,
            "layout": "IPY_MODEL_adcb2f78b1ae4035aa4d4d8308a36042",
            "placeholder": "​",
            "style": "IPY_MODEL_4690a6aeb6954c26b9259d3ccffebf8b",
            "value": " 1/1 [00:00&lt;00:00, 33.52it/s]"
          }
        },
        "7fd371f161c146fa99e19c7698f01ef2": {
          "model_module": "@jupyter-widgets/controls",
          "model_module_version": "1.5.0",
          "model_name": "ProgressStyleModel",
          "state": {
            "_model_module": "@jupyter-widgets/controls",
            "_model_module_version": "1.5.0",
            "_model_name": "ProgressStyleModel",
            "_view_count": null,
            "_view_module": "@jupyter-widgets/base",
            "_view_module_version": "1.2.0",
            "_view_name": "StyleView",
            "bar_color": null,
            "description_width": ""
          }
        },
        "81c6a0781a7e4601a94ffc41cee7b77c": {
          "model_module": "@jupyter-widgets/controls",
          "model_module_version": "1.5.0",
          "model_name": "HBoxModel",
          "state": {
            "_dom_classes": [],
            "_model_module": "@jupyter-widgets/controls",
            "_model_module_version": "1.5.0",
            "_model_name": "HBoxModel",
            "_view_count": null,
            "_view_module": "@jupyter-widgets/controls",
            "_view_module_version": "1.5.0",
            "_view_name": "HBoxView",
            "box_style": "",
            "children": [
              "IPY_MODEL_1d6edfbadcc246808d9d6001dddf38fc",
              "IPY_MODEL_18bd22edff1b4de8b69469ad5111952f",
              "IPY_MODEL_d8a5279332ca4a76aa727cc175d6dda6"
            ],
            "layout": "IPY_MODEL_bde842825fa648a5a701d4c347b8b70e"
          }
        },
        "89ef38468fe84ee2acea388847aa6f75": {
          "model_module": "@jupyter-widgets/controls",
          "model_module_version": "1.5.0",
          "model_name": "DescriptionStyleModel",
          "state": {
            "_model_module": "@jupyter-widgets/controls",
            "_model_module_version": "1.5.0",
            "_model_name": "DescriptionStyleModel",
            "_view_count": null,
            "_view_module": "@jupyter-widgets/base",
            "_view_module_version": "1.2.0",
            "_view_name": "StyleView",
            "description_width": ""
          }
        },
        "8eee8670ef7043a5895d9f3973259efc": {
          "model_module": "@jupyter-widgets/controls",
          "model_module_version": "1.5.0",
          "model_name": "DescriptionStyleModel",
          "state": {
            "_model_module": "@jupyter-widgets/controls",
            "_model_module_version": "1.5.0",
            "_model_name": "DescriptionStyleModel",
            "_view_count": null,
            "_view_module": "@jupyter-widgets/base",
            "_view_module_version": "1.2.0",
            "_view_name": "StyleView",
            "description_width": ""
          }
        },
        "96907759f87a4091aa34a69bafeb0d15": {
          "model_module": "@jupyter-widgets/base",
          "model_module_version": "1.2.0",
          "model_name": "LayoutModel",
          "state": {
            "_model_module": "@jupyter-widgets/base",
            "_model_module_version": "1.2.0",
            "_model_name": "LayoutModel",
            "_view_count": null,
            "_view_module": "@jupyter-widgets/base",
            "_view_module_version": "1.2.0",
            "_view_name": "LayoutView",
            "align_content": null,
            "align_items": null,
            "align_self": null,
            "border": null,
            "bottom": null,
            "display": null,
            "flex": null,
            "flex_flow": null,
            "grid_area": null,
            "grid_auto_columns": null,
            "grid_auto_flow": null,
            "grid_auto_rows": null,
            "grid_column": null,
            "grid_gap": null,
            "grid_row": null,
            "grid_template_areas": null,
            "grid_template_columns": null,
            "grid_template_rows": null,
            "height": null,
            "justify_content": null,
            "justify_items": null,
            "left": null,
            "margin": null,
            "max_height": null,
            "max_width": null,
            "min_height": null,
            "min_width": null,
            "object_fit": null,
            "object_position": null,
            "order": null,
            "overflow": null,
            "overflow_x": null,
            "overflow_y": null,
            "padding": null,
            "right": null,
            "top": null,
            "visibility": null,
            "width": null
          }
        },
        "9dd61d2fa97142d0bd7c736a10f19bd0": {
          "model_module": "@jupyter-widgets/base",
          "model_module_version": "1.2.0",
          "model_name": "LayoutModel",
          "state": {
            "_model_module": "@jupyter-widgets/base",
            "_model_module_version": "1.2.0",
            "_model_name": "LayoutModel",
            "_view_count": null,
            "_view_module": "@jupyter-widgets/base",
            "_view_module_version": "1.2.0",
            "_view_name": "LayoutView",
            "align_content": null,
            "align_items": null,
            "align_self": null,
            "border": null,
            "bottom": null,
            "display": null,
            "flex": null,
            "flex_flow": null,
            "grid_area": null,
            "grid_auto_columns": null,
            "grid_auto_flow": null,
            "grid_auto_rows": null,
            "grid_column": null,
            "grid_gap": null,
            "grid_row": null,
            "grid_template_areas": null,
            "grid_template_columns": null,
            "grid_template_rows": null,
            "height": null,
            "justify_content": null,
            "justify_items": null,
            "left": null,
            "margin": null,
            "max_height": null,
            "max_width": null,
            "min_height": null,
            "min_width": null,
            "object_fit": null,
            "object_position": null,
            "order": null,
            "overflow": null,
            "overflow_x": null,
            "overflow_y": null,
            "padding": null,
            "right": null,
            "top": null,
            "visibility": null,
            "width": null
          }
        },
        "adcb2f78b1ae4035aa4d4d8308a36042": {
          "model_module": "@jupyter-widgets/base",
          "model_module_version": "1.2.0",
          "model_name": "LayoutModel",
          "state": {
            "_model_module": "@jupyter-widgets/base",
            "_model_module_version": "1.2.0",
            "_model_name": "LayoutModel",
            "_view_count": null,
            "_view_module": "@jupyter-widgets/base",
            "_view_module_version": "1.2.0",
            "_view_name": "LayoutView",
            "align_content": null,
            "align_items": null,
            "align_self": null,
            "border": null,
            "bottom": null,
            "display": null,
            "flex": null,
            "flex_flow": null,
            "grid_area": null,
            "grid_auto_columns": null,
            "grid_auto_flow": null,
            "grid_auto_rows": null,
            "grid_column": null,
            "grid_gap": null,
            "grid_row": null,
            "grid_template_areas": null,
            "grid_template_columns": null,
            "grid_template_rows": null,
            "height": null,
            "justify_content": null,
            "justify_items": null,
            "left": null,
            "margin": null,
            "max_height": null,
            "max_width": null,
            "min_height": null,
            "min_width": null,
            "object_fit": null,
            "object_position": null,
            "order": null,
            "overflow": null,
            "overflow_x": null,
            "overflow_y": null,
            "padding": null,
            "right": null,
            "top": null,
            "visibility": null,
            "width": null
          }
        },
        "afa7708dec934f6cbcb3cd2baa8aff00": {
          "model_module": "@jupyter-widgets/base",
          "model_module_version": "1.2.0",
          "model_name": "LayoutModel",
          "state": {
            "_model_module": "@jupyter-widgets/base",
            "_model_module_version": "1.2.0",
            "_model_name": "LayoutModel",
            "_view_count": null,
            "_view_module": "@jupyter-widgets/base",
            "_view_module_version": "1.2.0",
            "_view_name": "LayoutView",
            "align_content": null,
            "align_items": null,
            "align_self": null,
            "border": null,
            "bottom": null,
            "display": null,
            "flex": null,
            "flex_flow": null,
            "grid_area": null,
            "grid_auto_columns": null,
            "grid_auto_flow": null,
            "grid_auto_rows": null,
            "grid_column": null,
            "grid_gap": null,
            "grid_row": null,
            "grid_template_areas": null,
            "grid_template_columns": null,
            "grid_template_rows": null,
            "height": null,
            "justify_content": null,
            "justify_items": null,
            "left": null,
            "margin": null,
            "max_height": null,
            "max_width": null,
            "min_height": null,
            "min_width": null,
            "object_fit": null,
            "object_position": null,
            "order": null,
            "overflow": null,
            "overflow_x": null,
            "overflow_y": null,
            "padding": null,
            "right": null,
            "top": null,
            "visibility": null,
            "width": null
          }
        },
        "b3142f24042b4fe88fe69b035509468f": {
          "model_module": "@jupyter-widgets/controls",
          "model_module_version": "1.5.0",
          "model_name": "ProgressStyleModel",
          "state": {
            "_model_module": "@jupyter-widgets/controls",
            "_model_module_version": "1.5.0",
            "_model_name": "ProgressStyleModel",
            "_view_count": null,
            "_view_module": "@jupyter-widgets/base",
            "_view_module_version": "1.2.0",
            "_view_name": "StyleView",
            "bar_color": null,
            "description_width": ""
          }
        },
        "ba0e484d059e429a87d26e1738429d1f": {
          "model_module": "@jupyter-widgets/controls",
          "model_module_version": "1.5.0",
          "model_name": "DescriptionStyleModel",
          "state": {
            "_model_module": "@jupyter-widgets/controls",
            "_model_module_version": "1.5.0",
            "_model_name": "DescriptionStyleModel",
            "_view_count": null,
            "_view_module": "@jupyter-widgets/base",
            "_view_module_version": "1.2.0",
            "_view_name": "StyleView",
            "description_width": ""
          }
        },
        "bbb0459e4ade4673a245e0761bc06bab": {
          "model_module": "@jupyter-widgets/base",
          "model_module_version": "1.2.0",
          "model_name": "LayoutModel",
          "state": {
            "_model_module": "@jupyter-widgets/base",
            "_model_module_version": "1.2.0",
            "_model_name": "LayoutModel",
            "_view_count": null,
            "_view_module": "@jupyter-widgets/base",
            "_view_module_version": "1.2.0",
            "_view_name": "LayoutView",
            "align_content": null,
            "align_items": null,
            "align_self": null,
            "border": null,
            "bottom": null,
            "display": null,
            "flex": null,
            "flex_flow": null,
            "grid_area": null,
            "grid_auto_columns": null,
            "grid_auto_flow": null,
            "grid_auto_rows": null,
            "grid_column": null,
            "grid_gap": null,
            "grid_row": null,
            "grid_template_areas": null,
            "grid_template_columns": null,
            "grid_template_rows": null,
            "height": null,
            "justify_content": null,
            "justify_items": null,
            "left": null,
            "margin": null,
            "max_height": null,
            "max_width": null,
            "min_height": null,
            "min_width": null,
            "object_fit": null,
            "object_position": null,
            "order": null,
            "overflow": null,
            "overflow_x": null,
            "overflow_y": null,
            "padding": null,
            "right": null,
            "top": null,
            "visibility": null,
            "width": null
          }
        },
        "bde842825fa648a5a701d4c347b8b70e": {
          "model_module": "@jupyter-widgets/base",
          "model_module_version": "1.2.0",
          "model_name": "LayoutModel",
          "state": {
            "_model_module": "@jupyter-widgets/base",
            "_model_module_version": "1.2.0",
            "_model_name": "LayoutModel",
            "_view_count": null,
            "_view_module": "@jupyter-widgets/base",
            "_view_module_version": "1.2.0",
            "_view_name": "LayoutView",
            "align_content": null,
            "align_items": null,
            "align_self": null,
            "border": null,
            "bottom": null,
            "display": null,
            "flex": null,
            "flex_flow": null,
            "grid_area": null,
            "grid_auto_columns": null,
            "grid_auto_flow": null,
            "grid_auto_rows": null,
            "grid_column": null,
            "grid_gap": null,
            "grid_row": null,
            "grid_template_areas": null,
            "grid_template_columns": null,
            "grid_template_rows": null,
            "height": null,
            "justify_content": null,
            "justify_items": null,
            "left": null,
            "margin": null,
            "max_height": null,
            "max_width": null,
            "min_height": null,
            "min_width": null,
            "object_fit": null,
            "object_position": null,
            "order": null,
            "overflow": null,
            "overflow_x": null,
            "overflow_y": null,
            "padding": null,
            "right": null,
            "top": null,
            "visibility": null,
            "width": null
          }
        },
        "c7cf0460348f4b58a1eee8d5d0c49b81": {
          "model_module": "@jupyter-widgets/base",
          "model_module_version": "1.2.0",
          "model_name": "LayoutModel",
          "state": {
            "_model_module": "@jupyter-widgets/base",
            "_model_module_version": "1.2.0",
            "_model_name": "LayoutModel",
            "_view_count": null,
            "_view_module": "@jupyter-widgets/base",
            "_view_module_version": "1.2.0",
            "_view_name": "LayoutView",
            "align_content": null,
            "align_items": null,
            "align_self": null,
            "border": null,
            "bottom": null,
            "display": null,
            "flex": null,
            "flex_flow": null,
            "grid_area": null,
            "grid_auto_columns": null,
            "grid_auto_flow": null,
            "grid_auto_rows": null,
            "grid_column": null,
            "grid_gap": null,
            "grid_row": null,
            "grid_template_areas": null,
            "grid_template_columns": null,
            "grid_template_rows": null,
            "height": null,
            "justify_content": null,
            "justify_items": null,
            "left": null,
            "margin": null,
            "max_height": null,
            "max_width": null,
            "min_height": null,
            "min_width": null,
            "object_fit": null,
            "object_position": null,
            "order": null,
            "overflow": null,
            "overflow_x": null,
            "overflow_y": null,
            "padding": null,
            "right": null,
            "top": null,
            "visibility": null,
            "width": null
          }
        },
        "caf07192cfab46dcb8a2346f5be2aef7": {
          "model_module": "@jupyter-widgets/base",
          "model_module_version": "1.2.0",
          "model_name": "LayoutModel",
          "state": {
            "_model_module": "@jupyter-widgets/base",
            "_model_module_version": "1.2.0",
            "_model_name": "LayoutModel",
            "_view_count": null,
            "_view_module": "@jupyter-widgets/base",
            "_view_module_version": "1.2.0",
            "_view_name": "LayoutView",
            "align_content": null,
            "align_items": null,
            "align_self": null,
            "border": null,
            "bottom": null,
            "display": null,
            "flex": null,
            "flex_flow": null,
            "grid_area": null,
            "grid_auto_columns": null,
            "grid_auto_flow": null,
            "grid_auto_rows": null,
            "grid_column": null,
            "grid_gap": null,
            "grid_row": null,
            "grid_template_areas": null,
            "grid_template_columns": null,
            "grid_template_rows": null,
            "height": null,
            "justify_content": null,
            "justify_items": null,
            "left": null,
            "margin": null,
            "max_height": null,
            "max_width": null,
            "min_height": null,
            "min_width": null,
            "object_fit": null,
            "object_position": null,
            "order": null,
            "overflow": null,
            "overflow_x": null,
            "overflow_y": null,
            "padding": null,
            "right": null,
            "top": null,
            "visibility": null,
            "width": null
          }
        },
        "cc610bdb2b10491aa708130c27569578": {
          "model_module": "@jupyter-widgets/controls",
          "model_module_version": "1.5.0",
          "model_name": "HTMLModel",
          "state": {
            "_dom_classes": [],
            "_model_module": "@jupyter-widgets/controls",
            "_model_module_version": "1.5.0",
            "_model_name": "HTMLModel",
            "_view_count": null,
            "_view_module": "@jupyter-widgets/controls",
            "_view_module_version": "1.5.0",
            "_view_name": "HTMLView",
            "description": "",
            "description_tooltip": null,
            "layout": "IPY_MODEL_0ce751791ebf45098583ba6302f52503",
            "placeholder": "​",
            "style": "IPY_MODEL_243556c0e67a4549bb477a02d73dc986",
            "value": "Render HTML: 100%"
          }
        },
        "d8a5279332ca4a76aa727cc175d6dda6": {
          "model_module": "@jupyter-widgets/controls",
          "model_module_version": "1.5.0",
          "model_name": "HTMLModel",
          "state": {
            "_dom_classes": [],
            "_model_module": "@jupyter-widgets/controls",
            "_model_module_version": "1.5.0",
            "_model_name": "HTMLModel",
            "_view_count": null,
            "_view_module": "@jupyter-widgets/controls",
            "_view_module_version": "1.5.0",
            "_view_name": "HTMLView",
            "description": "",
            "description_tooltip": null,
            "layout": "IPY_MODEL_c7cf0460348f4b58a1eee8d5d0c49b81",
            "placeholder": "​",
            "style": "IPY_MODEL_fd36dbd156a545bf9a4dc91c4edf57e1",
            "value": " 1/1 [00:08&lt;00:00,  8.61s/it]"
          }
        },
        "ef89da8415994f489543ea1d37df159f": {
          "model_module": "@jupyter-widgets/controls",
          "model_module_version": "1.5.0",
          "model_name": "ProgressStyleModel",
          "state": {
            "_model_module": "@jupyter-widgets/controls",
            "_model_module_version": "1.5.0",
            "_model_name": "ProgressStyleModel",
            "_view_count": null,
            "_view_module": "@jupyter-widgets/base",
            "_view_module_version": "1.2.0",
            "_view_name": "StyleView",
            "bar_color": null,
            "description_width": ""
          }
        },
        "f48e5c6d48ca447c88a15f47e8399cfa": {
          "model_module": "@jupyter-widgets/controls",
          "model_module_version": "1.5.0",
          "model_name": "FloatProgressModel",
          "state": {
            "_dom_classes": [],
            "_model_module": "@jupyter-widgets/controls",
            "_model_module_version": "1.5.0",
            "_model_name": "FloatProgressModel",
            "_view_count": null,
            "_view_module": "@jupyter-widgets/controls",
            "_view_module_version": "1.5.0",
            "_view_name": "ProgressView",
            "bar_style": "success",
            "description": "",
            "description_tooltip": null,
            "layout": "IPY_MODEL_1fba981e45ae4097ae7a56d8dc9748cb",
            "max": 1,
            "min": 0,
            "orientation": "horizontal",
            "style": "IPY_MODEL_b3142f24042b4fe88fe69b035509468f",
            "value": 1
          }
        },
        "f6aba6ca08014511af24199973f21992": {
          "model_module": "@jupyter-widgets/base",
          "model_module_version": "1.2.0",
          "model_name": "LayoutModel",
          "state": {
            "_model_module": "@jupyter-widgets/base",
            "_model_module_version": "1.2.0",
            "_model_name": "LayoutModel",
            "_view_count": null,
            "_view_module": "@jupyter-widgets/base",
            "_view_module_version": "1.2.0",
            "_view_name": "LayoutView",
            "align_content": null,
            "align_items": null,
            "align_self": null,
            "border": null,
            "bottom": null,
            "display": null,
            "flex": null,
            "flex_flow": null,
            "grid_area": null,
            "grid_auto_columns": null,
            "grid_auto_flow": null,
            "grid_auto_rows": null,
            "grid_column": null,
            "grid_gap": null,
            "grid_row": null,
            "grid_template_areas": null,
            "grid_template_columns": null,
            "grid_template_rows": null,
            "height": null,
            "justify_content": null,
            "justify_items": null,
            "left": null,
            "margin": null,
            "max_height": null,
            "max_width": null,
            "min_height": null,
            "min_width": null,
            "object_fit": null,
            "object_position": null,
            "order": null,
            "overflow": null,
            "overflow_x": null,
            "overflow_y": null,
            "padding": null,
            "right": null,
            "top": null,
            "visibility": null,
            "width": null
          }
        },
        "fb19030cf2a04bba9356d2b5a76e9d55": {
          "model_module": "@jupyter-widgets/controls",
          "model_module_version": "1.5.0",
          "model_name": "HTMLModel",
          "state": {
            "_dom_classes": [],
            "_model_module": "@jupyter-widgets/controls",
            "_model_module_version": "1.5.0",
            "_model_name": "HTMLModel",
            "_view_count": null,
            "_view_module": "@jupyter-widgets/controls",
            "_view_module_version": "1.5.0",
            "_view_name": "HTMLView",
            "description": "",
            "description_tooltip": null,
            "layout": "IPY_MODEL_f6aba6ca08014511af24199973f21992",
            "placeholder": "​",
            "style": "IPY_MODEL_89ef38468fe84ee2acea388847aa6f75",
            "value": "Summarize dataset: 100%"
          }
        },
        "fd36dbd156a545bf9a4dc91c4edf57e1": {
          "model_module": "@jupyter-widgets/controls",
          "model_module_version": "1.5.0",
          "model_name": "DescriptionStyleModel",
          "state": {
            "_model_module": "@jupyter-widgets/controls",
            "_model_module_version": "1.5.0",
            "_model_name": "DescriptionStyleModel",
            "_view_count": null,
            "_view_module": "@jupyter-widgets/base",
            "_view_module_version": "1.2.0",
            "_view_name": "StyleView",
            "description_width": ""
          }
        }
      }
    }
  },
  "nbformat": 4,
  "nbformat_minor": 5
}
